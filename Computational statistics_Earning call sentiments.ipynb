{
 "cells": [
  {
   "cell_type": "code",
   "execution_count": 73,
   "metadata": {},
   "outputs": [
    {
     "name": "stdout",
     "output_type": "stream",
     "text": [
      "The autoreload extension is already loaded. To reload it, use:\n",
      "  %reload_ext autoreload\n"
     ]
    }
   ],
   "source": [
    "from matplotlib import pyplot as plt, rcParams, animation\n",
    "import scipy, seaborn as sns, matplotlib\n",
    "from scipy.cluster import hierarchy as hc\n",
    "matplotlib.rc('animation', html='html5')\n",
    "import numpy as np\n",
    "import pandas as pd\n",
    "import matplotlib.pyplot as plt\n",
    "%matplotlib inline\n",
    "%load_ext autoreload\n",
    "%autoreload 2\n",
    "np.set_printoptions(precision=5, linewidth=110, suppress=True)\n",
    "import warnings\n",
    "warnings.filterwarnings(\"ignore\")\n",
    "\n",
    "import FA\n",
    "from pandas.api.types import is_string_dtype, is_numeric_dtype, is_categorical_dtype\n",
    "import os, math, pandas as pd, pickle, datetime, time\n",
    "from pandas_summary import DataFrameSummary\n",
    "from IPython.display import HTML, display\n",
    "from treeinterpreter import treeinterpreter"
   ]
  },
  {
   "cell_type": "code",
   "execution_count": 74,
   "metadata": {},
   "outputs": [],
   "source": [
    "from sklearn import metrics, ensemble, preprocessing\n",
    "from sklearn.ensemble import _forest as forest\n",
    "from sklearn.model_selection import train_test_split, GridSearchCV\n",
    "from sklearn.metrics import accuracy_score, mean_squared_error\n",
    "from sklearn_pandas import DataFrameMapper\n",
    "from sklearn.preprocessing import LabelEncoder, StandardScaler\n",
    "from sklearn.impute import SimpleImputer as Imputer\n",
    "from sklearn.ensemble import RandomForestRegressor\n",
    "from sklearn.linear_model import LinearRegression, Lasso, Ridge"
   ]
  },
  {
   "cell_type": "code",
   "execution_count": 75,
   "metadata": {},
   "outputs": [
    {
     "data": {
      "text/plain": [
       "(1953, 149)"
      ]
     },
     "execution_count": 75,
     "metadata": {},
     "output_type": "execute_result"
    }
   ],
   "source": [
    "df = pd.read_excel('df_final.xlsx')\n",
    "df.shape"
   ]
  },
  {
   "cell_type": "code",
   "execution_count": 76,
   "metadata": {
    "scrolled": true
   },
   "outputs": [
    {
     "data": {
      "text/html": [
       "<div>\n",
       "<style scoped>\n",
       "    .dataframe tbody tr th:only-of-type {\n",
       "        vertical-align: middle;\n",
       "    }\n",
       "\n",
       "    .dataframe tbody tr th {\n",
       "        vertical-align: top;\n",
       "    }\n",
       "\n",
       "    .dataframe thead th {\n",
       "        text-align: right;\n",
       "    }\n",
       "</style>\n",
       "<table border=\"1\" class=\"dataframe\">\n",
       "  <thead>\n",
       "    <tr style=\"text-align: right;\">\n",
       "      <th></th>\n",
       "      <th>file_name</th>\n",
       "      <th>ticker</th>\n",
       "      <th>date</th>\n",
       "      <th>industry</th>\n",
       "      <th>CBOE</th>\n",
       "      <th>CBOEDayAfter</th>\n",
       "      <th>CBOEDayBefore</th>\n",
       "      <th>TopicShare-1</th>\n",
       "      <th>TopicShare0</th>\n",
       "      <th>TopicShare1</th>\n",
       "      <th>...</th>\n",
       "      <th>sent61</th>\n",
       "      <th>sent62</th>\n",
       "      <th>sent63</th>\n",
       "      <th>sent64</th>\n",
       "      <th>sent65</th>\n",
       "      <th>sent66</th>\n",
       "      <th>sent67</th>\n",
       "      <th>sent68</th>\n",
       "      <th>Mkt_Reaction_Absolute</th>\n",
       "      <th>Mkt_Reaction_Percent</th>\n",
       "    </tr>\n",
       "  </thead>\n",
       "  <tbody>\n",
       "    <tr>\n",
       "      <th>0</th>\n",
       "      <td>2022-Apr-07-CAG.N-137610928086-transcript.txt</td>\n",
       "      <td>CAG.N</td>\n",
       "      <td>2022-04-07</td>\n",
       "      <td>Food, Beverage &amp; Tobacco</td>\n",
       "      <td>23.82</td>\n",
       "      <td>22.34</td>\n",
       "      <td>24.78</td>\n",
       "      <td>0.418798</td>\n",
       "      <td>0.358483</td>\n",
       "      <td>0.054561</td>\n",
       "      <td>...</td>\n",
       "      <td>0.0</td>\n",
       "      <td>0.0</td>\n",
       "      <td>0.0</td>\n",
       "      <td>0.0</td>\n",
       "      <td>0.0</td>\n",
       "      <td>0.0</td>\n",
       "      <td>0.0</td>\n",
       "      <td>0.0</td>\n",
       "      <td>0.16</td>\n",
       "      <td>0.004659</td>\n",
       "    </tr>\n",
       "    <tr>\n",
       "      <th>1</th>\n",
       "      <td>2022-Apr-07-LW.N-140326069706-transcript.txt</td>\n",
       "      <td>LW.N</td>\n",
       "      <td>2022-04-07</td>\n",
       "      <td>Food, Beverage &amp; Tobacco</td>\n",
       "      <td>23.82</td>\n",
       "      <td>22.34</td>\n",
       "      <td>24.78</td>\n",
       "      <td>0.354167</td>\n",
       "      <td>0.384199</td>\n",
       "      <td>0.106872</td>\n",
       "      <td>...</td>\n",
       "      <td>0.0</td>\n",
       "      <td>0.0</td>\n",
       "      <td>0.0</td>\n",
       "      <td>0.0</td>\n",
       "      <td>0.0</td>\n",
       "      <td>0.0</td>\n",
       "      <td>0.0</td>\n",
       "      <td>0.0</td>\n",
       "      <td>5.89</td>\n",
       "      <td>0.097452</td>\n",
       "    </tr>\n",
       "  </tbody>\n",
       "</table>\n",
       "<p>2 rows × 149 columns</p>\n",
       "</div>"
      ],
      "text/plain": [
       "                                       file_name ticker       date  \\\n",
       "0  2022-Apr-07-CAG.N-137610928086-transcript.txt  CAG.N 2022-04-07   \n",
       "1   2022-Apr-07-LW.N-140326069706-transcript.txt   LW.N 2022-04-07   \n",
       "\n",
       "                   industry   CBOE  CBOEDayAfter  CBOEDayBefore  TopicShare-1  \\\n",
       "0  Food, Beverage & Tobacco  23.82         22.34          24.78      0.418798   \n",
       "1  Food, Beverage & Tobacco  23.82         22.34          24.78      0.354167   \n",
       "\n",
       "   TopicShare0  TopicShare1  ...  sent61  sent62  sent63  sent64  sent65  \\\n",
       "0     0.358483     0.054561  ...     0.0     0.0     0.0     0.0     0.0   \n",
       "1     0.384199     0.106872  ...     0.0     0.0     0.0     0.0     0.0   \n",
       "\n",
       "   sent66  sent67  sent68  Mkt_Reaction_Absolute  Mkt_Reaction_Percent  \n",
       "0     0.0     0.0     0.0                   0.16              0.004659  \n",
       "1     0.0     0.0     0.0                   5.89              0.097452  \n",
       "\n",
       "[2 rows x 149 columns]"
      ]
     },
     "execution_count": 76,
     "metadata": {},
     "output_type": "execute_result"
    }
   ],
   "source": [
    "df.head(2)"
   ]
  },
  {
   "cell_type": "code",
   "execution_count": 77,
   "metadata": {},
   "outputs": [
    {
     "data": {
      "text/plain": [
       "(1950, 149)"
      ]
     },
     "execution_count": 77,
     "metadata": {},
     "output_type": "execute_result"
    }
   ],
   "source": [
    "df.dropna(inplace=True) #drop 3 rows\n",
    "df.shape"
   ]
  },
  {
   "cell_type": "code",
   "execution_count": 78,
   "metadata": {},
   "outputs": [],
   "source": [
    "df.drop(['file_name','date','CBOEDayAfter','Mkt_Reaction_Absolute'], axis=1, inplace=True)"
   ]
  },
  {
   "cell_type": "markdown",
   "metadata": {},
   "source": [
    "#### Transforming dataset "
   ]
  },
  {
   "cell_type": "code",
   "execution_count": 79,
   "metadata": {},
   "outputs": [
    {
     "data": {
      "text/plain": [
       "(1950, 144)"
      ]
     },
     "execution_count": 79,
     "metadata": {},
     "output_type": "execute_result"
    }
   ],
   "source": [
    "df_new, y, nas = FA.proc_df(df=df, y_fld='Mkt_Reaction_Percent')\n",
    "df_new.shape"
   ]
  },
  {
   "cell_type": "code",
   "execution_count": 80,
   "metadata": {},
   "outputs": [
    {
     "data": {
      "text/html": [
       "<div>\n",
       "<style scoped>\n",
       "    .dataframe tbody tr th:only-of-type {\n",
       "        vertical-align: middle;\n",
       "    }\n",
       "\n",
       "    .dataframe tbody tr th {\n",
       "        vertical-align: top;\n",
       "    }\n",
       "\n",
       "    .dataframe thead th {\n",
       "        text-align: right;\n",
       "    }\n",
       "</style>\n",
       "<table border=\"1\" class=\"dataframe\">\n",
       "  <thead>\n",
       "    <tr style=\"text-align: right;\">\n",
       "      <th></th>\n",
       "      <th>ticker</th>\n",
       "      <th>industry</th>\n",
       "      <th>CBOE</th>\n",
       "      <th>CBOEDayBefore</th>\n",
       "      <th>TopicShare-1</th>\n",
       "      <th>TopicShare0</th>\n",
       "      <th>TopicShare1</th>\n",
       "      <th>TopicShare2</th>\n",
       "      <th>TopicShare3</th>\n",
       "      <th>TopicShare4</th>\n",
       "      <th>...</th>\n",
       "      <th>sent59</th>\n",
       "      <th>sent60</th>\n",
       "      <th>sent61</th>\n",
       "      <th>sent62</th>\n",
       "      <th>sent63</th>\n",
       "      <th>sent64</th>\n",
       "      <th>sent65</th>\n",
       "      <th>sent66</th>\n",
       "      <th>sent67</th>\n",
       "      <th>sent68</th>\n",
       "    </tr>\n",
       "  </thead>\n",
       "  <tbody>\n",
       "    <tr>\n",
       "      <th>0</th>\n",
       "      <td>74</td>\n",
       "      <td>12</td>\n",
       "      <td>23.82</td>\n",
       "      <td>24.78</td>\n",
       "      <td>0.418798</td>\n",
       "      <td>0.358483</td>\n",
       "      <td>0.054561</td>\n",
       "      <td>0.000000</td>\n",
       "      <td>0.0</td>\n",
       "      <td>0.00000</td>\n",
       "      <td>...</td>\n",
       "      <td>0.0</td>\n",
       "      <td>0.0</td>\n",
       "      <td>0.0</td>\n",
       "      <td>0.0</td>\n",
       "      <td>0.0</td>\n",
       "      <td>0.0</td>\n",
       "      <td>0.0</td>\n",
       "      <td>0.0</td>\n",
       "      <td>0.0</td>\n",
       "      <td>0.0</td>\n",
       "    </tr>\n",
       "    <tr>\n",
       "      <th>1</th>\n",
       "      <td>282</td>\n",
       "      <td>12</td>\n",
       "      <td>23.82</td>\n",
       "      <td>24.78</td>\n",
       "      <td>0.354167</td>\n",
       "      <td>0.384199</td>\n",
       "      <td>0.106872</td>\n",
       "      <td>0.002435</td>\n",
       "      <td>0.0</td>\n",
       "      <td>0.01434</td>\n",
       "      <td>...</td>\n",
       "      <td>0.0</td>\n",
       "      <td>0.0</td>\n",
       "      <td>0.0</td>\n",
       "      <td>0.0</td>\n",
       "      <td>0.0</td>\n",
       "      <td>0.0</td>\n",
       "      <td>0.0</td>\n",
       "      <td>0.0</td>\n",
       "      <td>0.0</td>\n",
       "      <td>0.0</td>\n",
       "    </tr>\n",
       "  </tbody>\n",
       "</table>\n",
       "<p>2 rows × 144 columns</p>\n",
       "</div>"
      ],
      "text/plain": [
       "   ticker  industry   CBOE  CBOEDayBefore  TopicShare-1  TopicShare0  \\\n",
       "0      74        12  23.82          24.78      0.418798     0.358483   \n",
       "1     282        12  23.82          24.78      0.354167     0.384199   \n",
       "\n",
       "   TopicShare1  TopicShare2  TopicShare3  TopicShare4  ...  sent59  sent60  \\\n",
       "0     0.054561     0.000000          0.0      0.00000  ...     0.0     0.0   \n",
       "1     0.106872     0.002435          0.0      0.01434  ...     0.0     0.0   \n",
       "\n",
       "   sent61  sent62  sent63  sent64  sent65  sent66  sent67  sent68  \n",
       "0     0.0     0.0     0.0     0.0     0.0     0.0     0.0     0.0  \n",
       "1     0.0     0.0     0.0     0.0     0.0     0.0     0.0     0.0  \n",
       "\n",
       "[2 rows x 144 columns]"
      ]
     },
     "execution_count": 80,
     "metadata": {},
     "output_type": "execute_result"
    }
   ],
   "source": [
    "df_new.head(2)"
   ]
  },
  {
   "cell_type": "code",
   "execution_count": 81,
   "metadata": {},
   "outputs": [
    {
     "data": {
      "text/html": [
       "<div>\n",
       "<style scoped>\n",
       "    .dataframe tbody tr th:only-of-type {\n",
       "        vertical-align: middle;\n",
       "    }\n",
       "\n",
       "    .dataframe tbody tr th {\n",
       "        vertical-align: top;\n",
       "    }\n",
       "\n",
       "    .dataframe thead th {\n",
       "        text-align: right;\n",
       "    }\n",
       "</style>\n",
       "<table border=\"1\" class=\"dataframe\">\n",
       "  <thead>\n",
       "    <tr style=\"text-align: right;\">\n",
       "      <th></th>\n",
       "      <th>ticker</th>\n",
       "      <th>industry</th>\n",
       "      <th>CBOE</th>\n",
       "      <th>CBOEDayBefore</th>\n",
       "      <th>TopicShare-1</th>\n",
       "      <th>TopicShare0</th>\n",
       "      <th>TopicShare1</th>\n",
       "      <th>TopicShare2</th>\n",
       "      <th>TopicShare3</th>\n",
       "      <th>TopicShare4</th>\n",
       "      <th>...</th>\n",
       "      <th>sent59</th>\n",
       "      <th>sent60</th>\n",
       "      <th>sent61</th>\n",
       "      <th>sent62</th>\n",
       "      <th>sent63</th>\n",
       "      <th>sent64</th>\n",
       "      <th>sent65</th>\n",
       "      <th>sent66</th>\n",
       "      <th>sent67</th>\n",
       "      <th>sent68</th>\n",
       "    </tr>\n",
       "  </thead>\n",
       "  <tbody>\n",
       "    <tr>\n",
       "      <th>count</th>\n",
       "      <td>1950.000000</td>\n",
       "      <td>1950.000000</td>\n",
       "      <td>1950.000000</td>\n",
       "      <td>1950.000000</td>\n",
       "      <td>1950.000000</td>\n",
       "      <td>1950.000000</td>\n",
       "      <td>1950.000000</td>\n",
       "      <td>1950.000000</td>\n",
       "      <td>1950.000000</td>\n",
       "      <td>1950.000000</td>\n",
       "      <td>...</td>\n",
       "      <td>1950.000000</td>\n",
       "      <td>1950.000000</td>\n",
       "      <td>1950.000000</td>\n",
       "      <td>1950.000000</td>\n",
       "      <td>1950.000000</td>\n",
       "      <td>1950.000000</td>\n",
       "      <td>1950.000000</td>\n",
       "      <td>1950.000000</td>\n",
       "      <td>1950.000000</td>\n",
       "      <td>1950.000000</td>\n",
       "    </tr>\n",
       "    <tr>\n",
       "      <th>mean</th>\n",
       "      <td>247.804103</td>\n",
       "      <td>12.915897</td>\n",
       "      <td>27.817210</td>\n",
       "      <td>27.971415</td>\n",
       "      <td>0.487719</td>\n",
       "      <td>0.321816</td>\n",
       "      <td>0.027553</td>\n",
       "      <td>0.001055</td>\n",
       "      <td>0.017420</td>\n",
       "      <td>0.015481</td>\n",
       "      <td>...</td>\n",
       "      <td>0.002944</td>\n",
       "      <td>0.011172</td>\n",
       "      <td>0.002132</td>\n",
       "      <td>0.001182</td>\n",
       "      <td>0.004977</td>\n",
       "      <td>-0.000065</td>\n",
       "      <td>-0.000015</td>\n",
       "      <td>0.003025</td>\n",
       "      <td>0.002120</td>\n",
       "      <td>0.005302</td>\n",
       "    </tr>\n",
       "    <tr>\n",
       "      <th>std</th>\n",
       "      <td>142.542506</td>\n",
       "      <td>6.901127</td>\n",
       "      <td>4.227302</td>\n",
       "      <td>4.336686</td>\n",
       "      <td>0.096589</td>\n",
       "      <td>0.109910</td>\n",
       "      <td>0.041720</td>\n",
       "      <td>0.001403</td>\n",
       "      <td>0.053197</td>\n",
       "      <td>0.031381</td>\n",
       "      <td>...</td>\n",
       "      <td>0.048024</td>\n",
       "      <td>0.103177</td>\n",
       "      <td>0.040723</td>\n",
       "      <td>0.040662</td>\n",
       "      <td>0.160282</td>\n",
       "      <td>0.000823</td>\n",
       "      <td>0.000091</td>\n",
       "      <td>0.047870</td>\n",
       "      <td>0.042065</td>\n",
       "      <td>0.072942</td>\n",
       "    </tr>\n",
       "    <tr>\n",
       "      <th>min</th>\n",
       "      <td>1.000000</td>\n",
       "      <td>1.000000</td>\n",
       "      <td>19.730000</td>\n",
       "      <td>18.690000</td>\n",
       "      <td>0.106464</td>\n",
       "      <td>0.090171</td>\n",
       "      <td>0.000000</td>\n",
       "      <td>0.000000</td>\n",
       "      <td>0.000000</td>\n",
       "      <td>0.000000</td>\n",
       "      <td>...</td>\n",
       "      <td>0.000000</td>\n",
       "      <td>-0.991943</td>\n",
       "      <td>-0.044354</td>\n",
       "      <td>-0.997154</td>\n",
       "      <td>-0.999829</td>\n",
       "      <td>-0.010516</td>\n",
       "      <td>-0.001257</td>\n",
       "      <td>0.000000</td>\n",
       "      <td>0.000000</td>\n",
       "      <td>-0.661921</td>\n",
       "    </tr>\n",
       "    <tr>\n",
       "      <th>25%</th>\n",
       "      <td>124.250000</td>\n",
       "      <td>7.000000</td>\n",
       "      <td>24.410000</td>\n",
       "      <td>24.410000</td>\n",
       "      <td>0.429645</td>\n",
       "      <td>0.251045</td>\n",
       "      <td>0.000000</td>\n",
       "      <td>0.000000</td>\n",
       "      <td>0.000000</td>\n",
       "      <td>0.000000</td>\n",
       "      <td>...</td>\n",
       "      <td>0.000000</td>\n",
       "      <td>0.000000</td>\n",
       "      <td>0.000000</td>\n",
       "      <td>0.000000</td>\n",
       "      <td>0.000000</td>\n",
       "      <td>0.000000</td>\n",
       "      <td>0.000000</td>\n",
       "      <td>0.000000</td>\n",
       "      <td>0.000000</td>\n",
       "      <td>0.000000</td>\n",
       "    </tr>\n",
       "    <tr>\n",
       "      <th>50%</th>\n",
       "      <td>249.000000</td>\n",
       "      <td>13.000000</td>\n",
       "      <td>26.870000</td>\n",
       "      <td>27.070000</td>\n",
       "      <td>0.490837</td>\n",
       "      <td>0.304981</td>\n",
       "      <td>0.007038</td>\n",
       "      <td>0.000512</td>\n",
       "      <td>0.000000</td>\n",
       "      <td>0.005139</td>\n",
       "      <td>...</td>\n",
       "      <td>0.000000</td>\n",
       "      <td>0.000000</td>\n",
       "      <td>0.000000</td>\n",
       "      <td>0.000000</td>\n",
       "      <td>0.000000</td>\n",
       "      <td>0.000000</td>\n",
       "      <td>0.000000</td>\n",
       "      <td>0.000000</td>\n",
       "      <td>0.000000</td>\n",
       "      <td>0.000000</td>\n",
       "    </tr>\n",
       "    <tr>\n",
       "      <th>75%</th>\n",
       "      <td>372.000000</td>\n",
       "      <td>18.000000</td>\n",
       "      <td>32.000000</td>\n",
       "      <td>31.900000</td>\n",
       "      <td>0.554655</td>\n",
       "      <td>0.372100</td>\n",
       "      <td>0.042175</td>\n",
       "      <td>0.001436</td>\n",
       "      <td>0.000000</td>\n",
       "      <td>0.017972</td>\n",
       "      <td>...</td>\n",
       "      <td>0.000000</td>\n",
       "      <td>0.000000</td>\n",
       "      <td>0.000000</td>\n",
       "      <td>0.000000</td>\n",
       "      <td>0.000000</td>\n",
       "      <td>0.000000</td>\n",
       "      <td>0.000000</td>\n",
       "      <td>0.000000</td>\n",
       "      <td>0.000000</td>\n",
       "      <td>0.000000</td>\n",
       "    </tr>\n",
       "    <tr>\n",
       "      <th>max</th>\n",
       "      <td>494.000000</td>\n",
       "      <td>25.000000</td>\n",
       "      <td>38.940000</td>\n",
       "      <td>38.940000</td>\n",
       "      <td>0.762606</td>\n",
       "      <td>0.882129</td>\n",
       "      <td>0.291139</td>\n",
       "      <td>0.010984</td>\n",
       "      <td>0.401374</td>\n",
       "      <td>0.471274</td>\n",
       "      <td>...</td>\n",
       "      <td>1.000000</td>\n",
       "      <td>1.000000</td>\n",
       "      <td>1.000000</td>\n",
       "      <td>1.000000</td>\n",
       "      <td>1.000000</td>\n",
       "      <td>0.000000</td>\n",
       "      <td>0.000000</td>\n",
       "      <td>0.999260</td>\n",
       "      <td>1.000000</td>\n",
       "      <td>1.000000</td>\n",
       "    </tr>\n",
       "  </tbody>\n",
       "</table>\n",
       "<p>8 rows × 144 columns</p>\n",
       "</div>"
      ],
      "text/plain": [
       "            ticker     industry         CBOE  CBOEDayBefore  TopicShare-1  \\\n",
       "count  1950.000000  1950.000000  1950.000000    1950.000000   1950.000000   \n",
       "mean    247.804103    12.915897    27.817210      27.971415      0.487719   \n",
       "std     142.542506     6.901127     4.227302       4.336686      0.096589   \n",
       "min       1.000000     1.000000    19.730000      18.690000      0.106464   \n",
       "25%     124.250000     7.000000    24.410000      24.410000      0.429645   \n",
       "50%     249.000000    13.000000    26.870000      27.070000      0.490837   \n",
       "75%     372.000000    18.000000    32.000000      31.900000      0.554655   \n",
       "max     494.000000    25.000000    38.940000      38.940000      0.762606   \n",
       "\n",
       "       TopicShare0  TopicShare1  TopicShare2  TopicShare3  TopicShare4  ...  \\\n",
       "count  1950.000000  1950.000000  1950.000000  1950.000000  1950.000000  ...   \n",
       "mean      0.321816     0.027553     0.001055     0.017420     0.015481  ...   \n",
       "std       0.109910     0.041720     0.001403     0.053197     0.031381  ...   \n",
       "min       0.090171     0.000000     0.000000     0.000000     0.000000  ...   \n",
       "25%       0.251045     0.000000     0.000000     0.000000     0.000000  ...   \n",
       "50%       0.304981     0.007038     0.000512     0.000000     0.005139  ...   \n",
       "75%       0.372100     0.042175     0.001436     0.000000     0.017972  ...   \n",
       "max       0.882129     0.291139     0.010984     0.401374     0.471274  ...   \n",
       "\n",
       "            sent59       sent60       sent61       sent62       sent63  \\\n",
       "count  1950.000000  1950.000000  1950.000000  1950.000000  1950.000000   \n",
       "mean      0.002944     0.011172     0.002132     0.001182     0.004977   \n",
       "std       0.048024     0.103177     0.040723     0.040662     0.160282   \n",
       "min       0.000000    -0.991943    -0.044354    -0.997154    -0.999829   \n",
       "25%       0.000000     0.000000     0.000000     0.000000     0.000000   \n",
       "50%       0.000000     0.000000     0.000000     0.000000     0.000000   \n",
       "75%       0.000000     0.000000     0.000000     0.000000     0.000000   \n",
       "max       1.000000     1.000000     1.000000     1.000000     1.000000   \n",
       "\n",
       "            sent64       sent65       sent66       sent67       sent68  \n",
       "count  1950.000000  1950.000000  1950.000000  1950.000000  1950.000000  \n",
       "mean     -0.000065    -0.000015     0.003025     0.002120     0.005302  \n",
       "std       0.000823     0.000091     0.047870     0.042065     0.072942  \n",
       "min      -0.010516    -0.001257     0.000000     0.000000    -0.661921  \n",
       "25%       0.000000     0.000000     0.000000     0.000000     0.000000  \n",
       "50%       0.000000     0.000000     0.000000     0.000000     0.000000  \n",
       "75%       0.000000     0.000000     0.000000     0.000000     0.000000  \n",
       "max       0.000000     0.000000     0.999260     1.000000     1.000000  \n",
       "\n",
       "[8 rows x 144 columns]"
      ]
     },
     "execution_count": 81,
     "metadata": {},
     "output_type": "execute_result"
    }
   ],
   "source": [
    "df_new.describe()"
   ]
  },
  {
   "cell_type": "markdown",
   "metadata": {},
   "source": [
    "---"
   ]
  },
  {
   "cell_type": "markdown",
   "metadata": {},
   "source": [
    "### I. Random forest"
   ]
  },
  {
   "cell_type": "code",
   "execution_count": 82,
   "metadata": {},
   "outputs": [
    {
     "data": {
      "text/plain": [
       "((1560, 144), (1560,))"
      ]
     },
     "execution_count": 82,
     "metadata": {},
     "output_type": "execute_result"
    }
   ],
   "source": [
    "X_train, X_test, y_train, y_test = train_test_split(df_new, y, test_size=0.2, random_state=42)\n",
    "X_train.shape, y_train.shape"
   ]
  },
  {
   "cell_type": "code",
   "execution_count": 90,
   "metadata": {},
   "outputs": [
    {
     "name": "stdout",
     "output_type": "stream",
     "text": [
      "Mean Squared Error: 0.00440\n"
     ]
    }
   ],
   "source": [
    "param_grid = {\n",
    "    'n_estimators': [10, 20, 30],\n",
    "    'max_depth': [5, 7, 10],\n",
    "    'max_features': ['sqrt', 'log2', 0.5],\n",
    "    'min_samples_leaf': [3, 5, 7]\n",
    "}\n",
    "\n",
    "#Perform cross-validation\n",
    "rf = RandomForestRegressor(random_state=42)\n",
    "grid_search = GridSearchCV(estimator=rf, param_grid=param_grid, cv=5)\n",
    "grid_search.fit(X_train, y_train)\n",
    "\n",
    "#Select the best hyperparameters\n",
    "best_params = grid_search.best_params_\n",
    "\n",
    "#Train the model with the best hyperparameters\n",
    "rf_best = RandomForestRegressor(**best_params, random_state=42)\n",
    "rf_best.fit(X_train, y_train)\n",
    "\n",
    "#Evaluate the model\n",
    "y_pred = rf_best.predict(X_test)\n",
    "mse = mean_squared_error(y_test, y_pred)\n",
    "print(\"Mean Squared Error: {:.5f}\".format(mse))"
   ]
  },
  {
   "cell_type": "code",
   "execution_count": 91,
   "metadata": {},
   "outputs": [],
   "source": [
    "def rmse(pred,y): return math.sqrt(((pred-y)**2).mean())\n",
    "\n",
    "def print_score(m):\n",
    "    res = [rmse(m.predict(X_train), y_train), rmse(m.predict(X_test), y_test),\n",
    "                m.score(X_train, y_train), m.score(X_test, y_test)]\n",
    "    res = np.round(res,3)\n",
    "    print(f'RMSE train: {res[0]:.5f}, RMSE test: {res[1]:.5f}, R2 train: {res[2]}, R2 test: {res[3]}')"
   ]
  },
  {
   "cell_type": "code",
   "execution_count": 92,
   "metadata": {},
   "outputs": [
    {
     "name": "stdout",
     "output_type": "stream",
     "text": [
      "RMSE train: 0.05500, RMSE test: 0.06600, R2 train: 0.333, R2 test: 0.035\n"
     ]
    }
   ],
   "source": [
    "print_score(rf_best)"
   ]
  },
  {
   "cell_type": "code",
   "execution_count": 93,
   "metadata": {},
   "outputs": [
    {
     "data": {
      "text/plain": [
       "0.06762044673371834"
      ]
     },
     "execution_count": 93,
     "metadata": {},
     "output_type": "execute_result"
    }
   ],
   "source": [
    "y_std = y.std()\n",
    "y_std"
   ]
  },
  {
   "cell_type": "code",
   "execution_count": 94,
   "metadata": {},
   "outputs": [
    {
     "name": "stdout",
     "output_type": "stream",
     "text": [
      "Best Parameters: {'max_depth': 10, 'max_features': 0.5, 'min_samples_leaf': 7, 'n_estimators': 30}\n"
     ]
    }
   ],
   "source": [
    "best_params = grid_search.best_params_\n",
    "print(\"Best Parameters:\", best_params)"
   ]
  },
  {
   "cell_type": "code",
   "execution_count": 95,
   "metadata": {
    "collapsed": true
   },
   "outputs": [
    {
     "name": "stdout",
     "output_type": "stream",
     "text": [
      "Performance on Validation Folds:\n",
      "Mean Score: 0.0038348600570390135 - Parameters: {'max_depth': 5, 'max_features': 'sqrt', 'min_samples_leaf': 3, 'n_estimators': 10}\n",
      "Mean Score: 0.004110780574664274 - Parameters: {'max_depth': 5, 'max_features': 'sqrt', 'min_samples_leaf': 3, 'n_estimators': 20}\n",
      "Mean Score: 0.00897841574092162 - Parameters: {'max_depth': 5, 'max_features': 'sqrt', 'min_samples_leaf': 3, 'n_estimators': 30}\n",
      "Mean Score: -0.0065752660559377455 - Parameters: {'max_depth': 5, 'max_features': 'sqrt', 'min_samples_leaf': 5, 'n_estimators': 10}\n",
      "Mean Score: 0.0036152063489685916 - Parameters: {'max_depth': 5, 'max_features': 'sqrt', 'min_samples_leaf': 5, 'n_estimators': 20}\n",
      "Mean Score: 0.01026072725335272 - Parameters: {'max_depth': 5, 'max_features': 'sqrt', 'min_samples_leaf': 5, 'n_estimators': 30}\n",
      "Mean Score: 0.006596285745699393 - Parameters: {'max_depth': 5, 'max_features': 'sqrt', 'min_samples_leaf': 7, 'n_estimators': 10}\n",
      "Mean Score: 0.011649122847945215 - Parameters: {'max_depth': 5, 'max_features': 'sqrt', 'min_samples_leaf': 7, 'n_estimators': 20}\n",
      "Mean Score: 0.016727145074068073 - Parameters: {'max_depth': 5, 'max_features': 'sqrt', 'min_samples_leaf': 7, 'n_estimators': 30}\n",
      "Mean Score: -0.002679458820311442 - Parameters: {'max_depth': 5, 'max_features': 'log2', 'min_samples_leaf': 3, 'n_estimators': 10}\n",
      "Mean Score: 0.0008128615111619774 - Parameters: {'max_depth': 5, 'max_features': 'log2', 'min_samples_leaf': 3, 'n_estimators': 20}\n",
      "Mean Score: 0.006842752566261501 - Parameters: {'max_depth': 5, 'max_features': 'log2', 'min_samples_leaf': 3, 'n_estimators': 30}\n",
      "Mean Score: 0.006252409959315886 - Parameters: {'max_depth': 5, 'max_features': 'log2', 'min_samples_leaf': 5, 'n_estimators': 10}\n",
      "Mean Score: 0.006003738844945627 - Parameters: {'max_depth': 5, 'max_features': 'log2', 'min_samples_leaf': 5, 'n_estimators': 20}\n",
      "Mean Score: 0.009591601772395686 - Parameters: {'max_depth': 5, 'max_features': 'log2', 'min_samples_leaf': 5, 'n_estimators': 30}\n",
      "Mean Score: 0.0010458633361784652 - Parameters: {'max_depth': 5, 'max_features': 'log2', 'min_samples_leaf': 7, 'n_estimators': 10}\n",
      "Mean Score: 0.006721377073116197 - Parameters: {'max_depth': 5, 'max_features': 'log2', 'min_samples_leaf': 7, 'n_estimators': 20}\n",
      "Mean Score: 0.010590023616567556 - Parameters: {'max_depth': 5, 'max_features': 'log2', 'min_samples_leaf': 7, 'n_estimators': 30}\n",
      "Mean Score: 0.0015501551316625451 - Parameters: {'max_depth': 5, 'max_features': 0.5, 'min_samples_leaf': 3, 'n_estimators': 10}\n",
      "Mean Score: 0.018153251779877165 - Parameters: {'max_depth': 5, 'max_features': 0.5, 'min_samples_leaf': 3, 'n_estimators': 20}\n",
      "Mean Score: 0.02205190428890149 - Parameters: {'max_depth': 5, 'max_features': 0.5, 'min_samples_leaf': 3, 'n_estimators': 30}\n",
      "Mean Score: 0.0057610428743837035 - Parameters: {'max_depth': 5, 'max_features': 0.5, 'min_samples_leaf': 5, 'n_estimators': 10}\n",
      "Mean Score: 0.014473938504400508 - Parameters: {'max_depth': 5, 'max_features': 0.5, 'min_samples_leaf': 5, 'n_estimators': 20}\n",
      "Mean Score: 0.01897768399319859 - Parameters: {'max_depth': 5, 'max_features': 0.5, 'min_samples_leaf': 5, 'n_estimators': 30}\n",
      "Mean Score: 0.014105260475892289 - Parameters: {'max_depth': 5, 'max_features': 0.5, 'min_samples_leaf': 7, 'n_estimators': 10}\n",
      "Mean Score: 0.0163612156458528 - Parameters: {'max_depth': 5, 'max_features': 0.5, 'min_samples_leaf': 7, 'n_estimators': 20}\n",
      "Mean Score: 0.021368461008797034 - Parameters: {'max_depth': 5, 'max_features': 0.5, 'min_samples_leaf': 7, 'n_estimators': 30}\n",
      "Mean Score: -0.0012018157921028117 - Parameters: {'max_depth': 7, 'max_features': 'sqrt', 'min_samples_leaf': 3, 'n_estimators': 10}\n",
      "Mean Score: 0.00894022088090729 - Parameters: {'max_depth': 7, 'max_features': 'sqrt', 'min_samples_leaf': 3, 'n_estimators': 20}\n",
      "Mean Score: 0.01193500840090036 - Parameters: {'max_depth': 7, 'max_features': 'sqrt', 'min_samples_leaf': 3, 'n_estimators': 30}\n",
      "Mean Score: -0.004827169723350422 - Parameters: {'max_depth': 7, 'max_features': 'sqrt', 'min_samples_leaf': 5, 'n_estimators': 10}\n",
      "Mean Score: 0.005128647938279473 - Parameters: {'max_depth': 7, 'max_features': 'sqrt', 'min_samples_leaf': 5, 'n_estimators': 20}\n",
      "Mean Score: 0.009101086462127483 - Parameters: {'max_depth': 7, 'max_features': 'sqrt', 'min_samples_leaf': 5, 'n_estimators': 30}\n",
      "Mean Score: 0.0003798654414651992 - Parameters: {'max_depth': 7, 'max_features': 'sqrt', 'min_samples_leaf': 7, 'n_estimators': 10}\n",
      "Mean Score: 0.004639351647445067 - Parameters: {'max_depth': 7, 'max_features': 'sqrt', 'min_samples_leaf': 7, 'n_estimators': 20}\n",
      "Mean Score: 0.012914228928210435 - Parameters: {'max_depth': 7, 'max_features': 'sqrt', 'min_samples_leaf': 7, 'n_estimators': 30}\n",
      "Mean Score: -0.012637911210456165 - Parameters: {'max_depth': 7, 'max_features': 'log2', 'min_samples_leaf': 3, 'n_estimators': 10}\n",
      "Mean Score: -0.009250641324660335 - Parameters: {'max_depth': 7, 'max_features': 'log2', 'min_samples_leaf': 3, 'n_estimators': 20}\n",
      "Mean Score: 0.0012663588089051546 - Parameters: {'max_depth': 7, 'max_features': 'log2', 'min_samples_leaf': 3, 'n_estimators': 30}\n",
      "Mean Score: 0.0008789931915632821 - Parameters: {'max_depth': 7, 'max_features': 'log2', 'min_samples_leaf': 5, 'n_estimators': 10}\n",
      "Mean Score: 0.0015043026645013668 - Parameters: {'max_depth': 7, 'max_features': 'log2', 'min_samples_leaf': 5, 'n_estimators': 20}\n",
      "Mean Score: 0.008549979946551134 - Parameters: {'max_depth': 7, 'max_features': 'log2', 'min_samples_leaf': 5, 'n_estimators': 30}\n",
      "Mean Score: -0.006499166188475236 - Parameters: {'max_depth': 7, 'max_features': 'log2', 'min_samples_leaf': 7, 'n_estimators': 10}\n",
      "Mean Score: 0.005101237176012119 - Parameters: {'max_depth': 7, 'max_features': 'log2', 'min_samples_leaf': 7, 'n_estimators': 20}\n",
      "Mean Score: 0.013251853086691323 - Parameters: {'max_depth': 7, 'max_features': 'log2', 'min_samples_leaf': 7, 'n_estimators': 30}\n",
      "Mean Score: -0.0015405303018128258 - Parameters: {'max_depth': 7, 'max_features': 0.5, 'min_samples_leaf': 3, 'n_estimators': 10}\n",
      "Mean Score: 0.017080489963616486 - Parameters: {'max_depth': 7, 'max_features': 0.5, 'min_samples_leaf': 3, 'n_estimators': 20}\n",
      "Mean Score: 0.020445263374239176 - Parameters: {'max_depth': 7, 'max_features': 0.5, 'min_samples_leaf': 3, 'n_estimators': 30}\n",
      "Mean Score: -0.0006024449271320176 - Parameters: {'max_depth': 7, 'max_features': 0.5, 'min_samples_leaf': 5, 'n_estimators': 10}\n",
      "Mean Score: 0.010941095616790086 - Parameters: {'max_depth': 7, 'max_features': 0.5, 'min_samples_leaf': 5, 'n_estimators': 20}\n",
      "Mean Score: 0.019388197173218536 - Parameters: {'max_depth': 7, 'max_features': 0.5, 'min_samples_leaf': 5, 'n_estimators': 30}\n",
      "Mean Score: 0.002079528101158812 - Parameters: {'max_depth': 7, 'max_features': 0.5, 'min_samples_leaf': 7, 'n_estimators': 10}\n",
      "Mean Score: 0.013572456761837225 - Parameters: {'max_depth': 7, 'max_features': 0.5, 'min_samples_leaf': 7, 'n_estimators': 20}\n",
      "Mean Score: 0.021884884258036252 - Parameters: {'max_depth': 7, 'max_features': 0.5, 'min_samples_leaf': 7, 'n_estimators': 30}\n",
      "Mean Score: -0.014585305785741109 - Parameters: {'max_depth': 10, 'max_features': 'sqrt', 'min_samples_leaf': 3, 'n_estimators': 10}\n",
      "Mean Score: 0.008354991849851622 - Parameters: {'max_depth': 10, 'max_features': 'sqrt', 'min_samples_leaf': 3, 'n_estimators': 20}\n",
      "Mean Score: 0.013689893924152919 - Parameters: {'max_depth': 10, 'max_features': 'sqrt', 'min_samples_leaf': 3, 'n_estimators': 30}\n",
      "Mean Score: -0.012673108918468933 - Parameters: {'max_depth': 10, 'max_features': 'sqrt', 'min_samples_leaf': 5, 'n_estimators': 10}\n",
      "Mean Score: 0.004113044682110911 - Parameters: {'max_depth': 10, 'max_features': 'sqrt', 'min_samples_leaf': 5, 'n_estimators': 20}\n",
      "Mean Score: 0.008690120385041512 - Parameters: {'max_depth': 10, 'max_features': 'sqrt', 'min_samples_leaf': 5, 'n_estimators': 30}\n",
      "Mean Score: -0.004546385926000829 - Parameters: {'max_depth': 10, 'max_features': 'sqrt', 'min_samples_leaf': 7, 'n_estimators': 10}\n",
      "Mean Score: 0.006699912264802199 - Parameters: {'max_depth': 10, 'max_features': 'sqrt', 'min_samples_leaf': 7, 'n_estimators': 20}\n",
      "Mean Score: 0.015181898883244149 - Parameters: {'max_depth': 10, 'max_features': 'sqrt', 'min_samples_leaf': 7, 'n_estimators': 30}\n",
      "Mean Score: -0.028700471168233356 - Parameters: {'max_depth': 10, 'max_features': 'log2', 'min_samples_leaf': 3, 'n_estimators': 10}\n",
      "Mean Score: -0.010663773033010405 - Parameters: {'max_depth': 10, 'max_features': 'log2', 'min_samples_leaf': 3, 'n_estimators': 20}\n",
      "Mean Score: 0.0033806352028668664 - Parameters: {'max_depth': 10, 'max_features': 'log2', 'min_samples_leaf': 3, 'n_estimators': 30}\n",
      "Mean Score: -0.013010758411451651 - Parameters: {'max_depth': 10, 'max_features': 'log2', 'min_samples_leaf': 5, 'n_estimators': 10}\n",
      "Mean Score: -0.007009472316620547 - Parameters: {'max_depth': 10, 'max_features': 'log2', 'min_samples_leaf': 5, 'n_estimators': 20}\n",
      "Mean Score: 0.00020920226817096045 - Parameters: {'max_depth': 10, 'max_features': 'log2', 'min_samples_leaf': 5, 'n_estimators': 30}\n",
      "Mean Score: -0.007309622802023741 - Parameters: {'max_depth': 10, 'max_features': 'log2', 'min_samples_leaf': 7, 'n_estimators': 10}\n",
      "Mean Score: 0.0029539542375242923 - Parameters: {'max_depth': 10, 'max_features': 'log2', 'min_samples_leaf': 7, 'n_estimators': 20}\n",
      "Mean Score: 0.009910036326296412 - Parameters: {'max_depth': 10, 'max_features': 'log2', 'min_samples_leaf': 7, 'n_estimators': 30}\n",
      "Mean Score: -0.02641192730112154 - Parameters: {'max_depth': 10, 'max_features': 0.5, 'min_samples_leaf': 3, 'n_estimators': 10}\n",
      "Mean Score: 0.006240266658002325 - Parameters: {'max_depth': 10, 'max_features': 0.5, 'min_samples_leaf': 3, 'n_estimators': 20}\n",
      "Mean Score: 0.014027417054163615 - Parameters: {'max_depth': 10, 'max_features': 0.5, 'min_samples_leaf': 3, 'n_estimators': 30}\n",
      "Mean Score: -0.006853007800472355 - Parameters: {'max_depth': 10, 'max_features': 0.5, 'min_samples_leaf': 5, 'n_estimators': 10}\n",
      "Mean Score: 0.010957292463711642 - Parameters: {'max_depth': 10, 'max_features': 0.5, 'min_samples_leaf': 5, 'n_estimators': 20}\n",
      "Mean Score: 0.020310018280639053 - Parameters: {'max_depth': 10, 'max_features': 0.5, 'min_samples_leaf': 5, 'n_estimators': 30}\n",
      "Mean Score: 0.009837986843435464 - Parameters: {'max_depth': 10, 'max_features': 0.5, 'min_samples_leaf': 7, 'n_estimators': 10}\n",
      "Mean Score: 0.021650300162216984 - Parameters: {'max_depth': 10, 'max_features': 0.5, 'min_samples_leaf': 7, 'n_estimators': 20}\n",
      "Mean Score: 0.030649261848869624 - Parameters: {'max_depth': 10, 'max_features': 0.5, 'min_samples_leaf': 7, 'n_estimators': 30}\n"
     ]
    }
   ],
   "source": [
    "cv_results = grid_search.cv_results_\n",
    "print(\"Performance on Validation Folds:\")\n",
    "for mean_score, params in zip(cv_results['mean_test_score'], cv_results['params']):\n",
    "    print(\"Mean Score:\", mean_score, \"- Parameters:\", params)"
   ]
  },
  {
   "cell_type": "markdown",
   "metadata": {},
   "source": [
    "### Feature importances"
   ]
  },
  {
   "cell_type": "code",
   "execution_count": 96,
   "metadata": {},
   "outputs": [
    {
     "data": {
      "text/plain": [
       "<matplotlib.axes._subplots.AxesSubplot at 0x2ccf196de80>"
      ]
     },
     "execution_count": 96,
     "metadata": {},
     "output_type": "execute_result"
    },
    {
     "data": {
      "image/png": "[encoded data removed]",
      "text/plain": [
       "<Figure size 864x504 with 1 Axes>"
      ]
     },
     "metadata": {
      "needs_background": "light"
     },
     "output_type": "display_data"
    }
   ],
   "source": [
    "fi = FA.rf_feat_importance(rf_best, df_new)\n",
    "FA.plot_fi(fi[:30])"
   ]
  },
  {
   "cell_type": "code",
   "execution_count": 97,
   "metadata": {},
   "outputs": [
    {
     "data": {
      "text/plain": [
       "52"
      ]
     },
     "execution_count": 97,
     "metadata": {},
     "output_type": "execute_result"
    }
   ],
   "source": [
    "to_keep = fi[fi.imp>0.005].cols\n",
    "len(to_keep) "
   ]
  },
  {
   "cell_type": "code",
   "execution_count": 98,
   "metadata": {},
   "outputs": [
    {
     "data": {
      "text/plain": [
       "(1950, 52)"
      ]
     },
     "execution_count": 98,
     "metadata": {},
     "output_type": "execute_result"
    }
   ],
   "source": [
    "df_keep = df_new[to_keep]\n",
    "df_keep.shape"
   ]
  },
  {
   "cell_type": "markdown",
   "metadata": {},
   "source": [
    "#### Retrain the model with the reduced number of features"
   ]
  },
  {
   "cell_type": "code",
   "execution_count": 106,
   "metadata": {},
   "outputs": [
    {
     "data": {
      "text/plain": [
       "((1560, 52), (1560,))"
      ]
     },
     "execution_count": 106,
     "metadata": {},
     "output_type": "execute_result"
    }
   ],
   "source": [
    "X_train, X_test, y_train, y_test = train_test_split(df_keep, y, test_size=0.2, random_state=42)\n",
    "X_train.shape, y_train.shape"
   ]
  },
  {
   "cell_type": "code",
   "execution_count": 107,
   "metadata": {},
   "outputs": [
    {
     "name": "stdout",
     "output_type": "stream",
     "text": [
      "Mean Squared Error: 0.00434\n"
     ]
    }
   ],
   "source": [
    "m = RandomForestRegressor(n_estimators=30, max_depth=10, max_features=0.5,\n",
    "                          min_samples_leaf=7, n_jobs=-1)\n",
    "m.fit(X_train, y_train)\n",
    "#Evaluate the model\n",
    "y_pred = m.predict(X_test)\n",
    "mse = mean_squared_error(y_test, y_pred)\n",
    "print(\"Mean Squared Error: {:.5f}\".format(mse))"
   ]
  },
  {
   "cell_type": "code",
   "execution_count": 108,
   "metadata": {},
   "outputs": [
    {
     "name": "stdout",
     "output_type": "stream",
     "text": [
      "RMSE train: 0.05400, RMSE test: 0.06600, R2 train: 0.373, R2 test: 0.048\n"
     ]
    }
   ],
   "source": [
    "print_score(m) # despite reducing features, performance was improved"
   ]
  },
  {
   "cell_type": "code",
   "execution_count": 109,
   "metadata": {},
   "outputs": [
    {
     "data": {
      "text/plain": [
       "<matplotlib.axes._subplots.AxesSubplot at 0x2ccf66d35c0>"
      ]
     },
     "execution_count": 109,
     "metadata": {},
     "output_type": "execute_result"
    },
    {
     "data": {
      "image/png": "[encoded data removed]",
      "text/plain": [
       "<Figure size 864x504 with 1 Axes>"
      ]
     },
     "metadata": {
      "needs_background": "light"
     },
     "output_type": "display_data"
    }
   ],
   "source": [
    "fi = FA.rf_feat_importance(m, df_keep)\n",
    "FA.plot_fi(fi[:30])"
   ]
  },
  {
   "cell_type": "code",
   "execution_count": 110,
   "metadata": {},
   "outputs": [
    {
     "data": {
      "image/png": "[encoded data removed]",
      "text/plain": [
       "<Figure size 1152x1008 with 1 Axes>"
      ]
     },
     "metadata": {
      "needs_background": "light"
     },
     "output_type": "display_data"
    }
   ],
   "source": [
    "corr = np.round(scipy.stats.spearmanr(df_keep).correlation, 4)\n",
    "corr_condensed = hc.distance.squareform(1-corr)\n",
    "z = hc.linkage(corr_condensed, method='average')\n",
    "fig = plt.figure(figsize=(16,14))\n",
    "dendrogram = hc.dendrogram(z, labels=df_keep.columns, \n",
    "                           orientation='left', leaf_font_size=8)"
   ]
  },
  {
   "cell_type": "code",
   "execution_count": 111,
   "metadata": {},
   "outputs": [
    {
     "data": {
      "text/plain": [
       "(1950, 53)"
      ]
     },
     "execution_count": 111,
     "metadata": {},
     "output_type": "execute_result"
    }
   ],
   "source": [
    "col = fi['cols'].tolist()\n",
    "col.append('Mkt_Reaction_Percent')\n",
    "df_for_LR = df[col]\n",
    "df_for_LR.shape"
   ]
  },
  {
   "cell_type": "code",
   "execution_count": 112,
   "metadata": {},
   "outputs": [],
   "source": [
    "df_for_LR.to_pickle('df_for_LR')"
   ]
  },
  {
   "cell_type": "markdown",
   "metadata": {},
   "source": [
    "---"
   ]
  },
  {
   "cell_type": "markdown",
   "metadata": {},
   "source": [
    "### II. OLS, Lasso, and Ridge\n"
   ]
  },
  {
   "cell_type": "code",
   "execution_count": 114,
   "metadata": {},
   "outputs": [
    {
     "data": {
      "text/plain": [
       "(1950, 52)"
      ]
     },
     "execution_count": 114,
     "metadata": {},
     "output_type": "execute_result"
    }
   ],
   "source": [
    "df_new, y, nas, mapper = FA.proc_df(df=df_for_LR, y_fld='Mkt_Reaction_Percent', do_scale=True)\n",
    "df_new.shape"
   ]
  },
  {
   "cell_type": "code",
   "execution_count": 115,
   "metadata": {},
   "outputs": [
    {
     "data": {
      "text/plain": [
       "((1560, 52), (1560,))"
      ]
     },
     "execution_count": 115,
     "metadata": {},
     "output_type": "execute_result"
    }
   ],
   "source": [
    "X_train, X_test, y_train, y_test = train_test_split(df_new, y, test_size=0.2, random_state=42)\n",
    "X_train.shape, y_train.shape"
   ]
  },
  {
   "cell_type": "markdown",
   "metadata": {},
   "source": [
    "#### 1. OLS"
   ]
  },
  {
   "cell_type": "code",
   "execution_count": 116,
   "metadata": {},
   "outputs": [
    {
     "data": {
      "text/plain": [
       "0.0036833719650170016"
      ]
     },
     "execution_count": 116,
     "metadata": {},
     "output_type": "execute_result"
    }
   ],
   "source": [
    "m = LinearRegression().fit(X_train, y_train)\n",
    "m.score(X_test, y_test)"
   ]
  },
  {
   "cell_type": "code",
   "execution_count": 117,
   "metadata": {},
   "outputs": [
    {
     "data": {
      "text/plain": [
       "0.0763565906885979"
      ]
     },
     "execution_count": 117,
     "metadata": {},
     "output_type": "execute_result"
    }
   ],
   "source": [
    "m.score(X_train, y_train)"
   ]
  },
  {
   "cell_type": "code",
   "execution_count": 118,
   "metadata": {},
   "outputs": [
    {
     "data": {
      "text/plain": [
       "0.06741602568020068"
      ]
     },
     "execution_count": 118,
     "metadata": {},
     "output_type": "execute_result"
    }
   ],
   "source": [
    "preds = m.predict(X_test)\n",
    "rmse(preds, y_test)"
   ]
  },
  {
   "cell_type": "code",
   "execution_count": 119,
   "metadata": {},
   "outputs": [
    {
     "data": {
      "text/plain": [
       "0.06762044673371834"
      ]
     },
     "execution_count": 119,
     "metadata": {},
     "output_type": "execute_result"
    }
   ],
   "source": [
    "y_std = y.std()\n",
    "y_std "
   ]
  },
  {
   "cell_type": "markdown",
   "metadata": {},
   "source": [
    "#### 2. Lasso"
   ]
  },
  {
   "cell_type": "code",
   "execution_count": 124,
   "metadata": {},
   "outputs": [
    {
     "data": {
      "text/plain": [
       "0.02609710457354808"
      ]
     },
     "execution_count": 124,
     "metadata": {},
     "output_type": "execute_result"
    }
   ],
   "source": [
    "m = Lasso(alpha=0.001).fit(X_train, y_train)\n",
    "m.score(X_test, y_test)"
   ]
  },
  {
   "cell_type": "code",
   "execution_count": 125,
   "metadata": {},
   "outputs": [
    {
     "data": {
      "text/plain": [
       "0.06665339659786397"
      ]
     },
     "execution_count": 125,
     "metadata": {},
     "output_type": "execute_result"
    }
   ],
   "source": [
    "rmse(m.predict(X_test), y_test)"
   ]
  },
  {
   "cell_type": "markdown",
   "metadata": {},
   "source": [
    "#### 3. Ridge"
   ]
  },
  {
   "cell_type": "code",
   "execution_count": 128,
   "metadata": {},
   "outputs": [
    {
     "data": {
      "text/plain": [
       "0.0036835025731130067"
      ]
     },
     "execution_count": 128,
     "metadata": {},
     "output_type": "execute_result"
    }
   ],
   "source": [
    "m = Ridge(alpha=0.001).fit(X_train, y_train)\n",
    "m.score(X_test, y_test)"
   ]
  },
  {
   "cell_type": "code",
   "execution_count": 129,
   "metadata": {},
   "outputs": [
    {
     "data": {
      "text/plain": [
       "0.06741602126138502"
      ]
     },
     "execution_count": 129,
     "metadata": {},
     "output_type": "execute_result"
    }
   ],
   "source": [
    "rmse(m.predict(X_test), y_test)"
   ]
  },
  {
   "cell_type": "code",
   "execution_count": null,
   "metadata": {},
   "outputs": [],
   "source": []
  }
 ],
 "metadata": {
  "kernelspec": {
   "display_name": "Python 3",
   "language": "python",
   "name": "python3"
  },
  "language_info": {
   "codemirror_mode": {
    "name": "ipython",
    "version": 3
   },
   "file_extension": ".py",
   "mimetype": "text/x-python",
   "name": "python",
   "nbconvert_exporter": "python",
   "pygments_lexer": "ipython3",
   "version": "3.6.12"
  }
 },
 "nbformat": 4,
 "nbformat_minor": 2
}
